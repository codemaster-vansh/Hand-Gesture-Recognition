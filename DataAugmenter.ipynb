{
 "cells": [
  {
   "cell_type": "code",
   "execution_count": 5,
   "metadata": {},
   "outputs": [],
   "source": [
    "import tensorflow\n",
    "import os\n",
    "from tensorflow.keras.preprocessing.image import ImageDataGenerator"
   ]
  },
  {
   "cell_type": "markdown",
   "metadata": {},
   "source": [
    "Global Variables\n"
   ]
  },
  {
   "cell_type": "code",
   "execution_count": 6,
   "metadata": {},
   "outputs": [],
   "source": [
    "DATA_DIR = \"./data1\"\n",
    "NEW_DIR = r\"F:\\AI and ML\\AIMS\\Projects\\NEW\\data1\\Non_Augmented\"\n",
    "SAVE_DIR = r\"F:\\AI and ML\\AIMS\\Projects\\NEW\\data1\\Augmented\""
   ]
  },
  {
   "cell_type": "markdown",
   "metadata": {},
   "source": [
    "ImageDataGen"
   ]
  },
  {
   "cell_type": "code",
   "execution_count": 7,
   "metadata": {},
   "outputs": [],
   "source": [
    "datagen = ImageDataGenerator(\n",
    "    rotation_range = 20,\n",
    "    width_shift_range = 0.2,\n",
    "    height_shift_range = 0.2,\n",
    "    horizontal_flip = True,\n",
    "    zoom_range = 0.2,\n",
    "    brightness_range= [0.8, 1.2],\n",
    "    channel_shift_range = 0.1,\n",
    "    fill_mode = 'nearest'\n",
    ")"
   ]
  },
  {
   "cell_type": "code",
   "execution_count": 8,
   "metadata": {},
   "outputs": [
    {
     "name": "stdout",
     "output_type": "stream",
     "text": [
      "Found 200 images belonging to 1 classes.\n",
      "Found 200 images belonging to 1 classes.\n",
      "Found 200 images belonging to 1 classes.\n",
      "Found 200 images belonging to 1 classes.\n",
      "Found 200 images belonging to 1 classes.\n",
      "Found 200 images belonging to 1 classes.\n",
      "Found 200 images belonging to 1 classes.\n",
      "Found 200 images belonging to 1 classes.\n",
      "Augmentation Complete\n"
     ]
    }
   ],
   "source": [
    "for subdir in os.listdir(NEW_DIR):\n",
    "    subdir_path = os.path.join(NEW_DIR, subdir)\n",
    "    if os.path.isdir(subdir_path):\n",
    "        save_subdir = os.path.join(SAVE_DIR, subdir)\n",
    "        os.makedirs(save_subdir)\n",
    "        \n",
    "        generator = datagen.flow_from_directory(\n",
    "            NEW_DIR,\n",
    "            target_size = (480, 640),\n",
    "            batch_size = 1,\n",
    "            save_to_dir = save_subdir,\n",
    "            save_format = \"jpg\",\n",
    "            classes = [subdir],\n",
    "            class_mode = None\n",
    "        )\n",
    "\n",
    "        for i in range(200):\n",
    "            try:\n",
    "                batch = next(generator)\n",
    "            except StopIteration:\n",
    "                break\n",
    "\n",
    "    \n",
    "print(\"Augmentation Complete\")"
   ]
  },
  {
   "cell_type": "code",
   "execution_count": null,
   "metadata": {},
   "outputs": [],
   "source": []
  }
 ],
 "metadata": {
  "kernelspec": {
   "display_name": "tf-cpu",
   "language": "python",
   "name": "python3"
  },
  "language_info": {
   "codemirror_mode": {
    "name": "ipython",
    "version": 3
   },
   "file_extension": ".py",
   "mimetype": "text/x-python",
   "name": "python",
   "nbconvert_exporter": "python",
   "pygments_lexer": "ipython3",
   "version": "3.11.11"
  }
 },
 "nbformat": 4,
 "nbformat_minor": 2
}
