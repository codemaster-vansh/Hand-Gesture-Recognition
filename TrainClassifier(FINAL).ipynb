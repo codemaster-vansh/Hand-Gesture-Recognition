{
 "cells": [
  {
   "cell_type": "code",
   "execution_count": 1,
   "id": "42a0b25e",
   "metadata": {},
   "outputs": [],
   "source": [
    "import numpy as np\n",
    "import pandas as pd\n",
    "import tensorflow as tf\n",
    "from keras.models import Sequential, Model\n",
    "from keras.layers import Input, Reshape, Dense, Layer, Concatenate, Dropout\n",
    "from keras.regularizers import l1_l2\n",
    "from sklearn.model_selection import train_test_split\n",
    "from sklearn.metrics import confusion_matrix\n",
    "from sklearn.preprocessing import LabelEncoder"
   ]
  },
  {
   "cell_type": "code",
   "execution_count": 2,
   "id": "02f0e95e",
   "metadata": {},
   "outputs": [],
   "source": [
    "df = pd.read_csv(r\"F:\\PROJECTS\\AI PROJECTS\\HANDRECOGPROJECT\\FINAL_GITHUB_DEPOSIT\\hand_landmarks_with_invariance.csv\")"
   ]
  },
  {
   "cell_type": "code",
   "execution_count": 3,
   "id": "90f4e129",
   "metadata": {},
   "outputs": [],
   "source": [
    "df_new = df.drop('image',axis=1)"
   ]
  },
  {
   "cell_type": "code",
   "execution_count": 4,
   "id": "8033368d",
   "metadata": {},
   "outputs": [],
   "source": [
    "X = df_new.drop(columns = ['gesture'])\n",
    "y = df_new['gesture']"
   ]
  },
  {
   "cell_type": "code",
   "execution_count": 5,
   "id": "0e2ebbb9",
   "metadata": {},
   "outputs": [
    {
     "name": "stderr",
     "output_type": "stream",
     "text": [
      "C:\\Users\\vansh\\AppData\\Local\\Temp\\ipykernel_15684\\3745509944.py:2: FutureWarning: Downcasting behavior in `replace` is deprecated and will be removed in a future version. To retain the old behavior, explicitly call `result.infer_objects(copy=False)`. To opt-in to the future behavior, set `pd.set_option('future.no_silent_downcasting', True)`\n",
      "  y = y.replace(label_to_num).astype('int32')\n"
     ]
    }
   ],
   "source": [
    "label_to_num = {label: i for i, label in enumerate(y.unique())}\n",
    "y = y.replace(label_to_num).astype('int32')"
   ]
  },
  {
   "cell_type": "code",
   "execution_count": 6,
   "id": "7b0bb36c",
   "metadata": {},
   "outputs": [],
   "source": [
    "class SpatialTransformer(Layer):\n",
    "    def __init__(self, output_dim=(42,), **kwargs):  # Critical fix here\n",
    "        super().__init__(**kwargs)\n",
    "        self.output_dim = output_dim\n",
    "\n",
    "    def build(self, input_shape):\n",
    "        self.localization = Sequential([\n",
    "            Dense(32, activation=\"relu\"),\n",
    "            Dense(6, \n",
    "                kernel_initializer='zeros',\n",
    "                bias_initializer=tf.constant_initializer([1,0,0,0,1,0]))\n",
    "        ])\n",
    "        super().build(input_shape)\n",
    "    \n",
    "    def call(self, inputs):\n",
    "        x = Reshape((21, 2))(inputs)\n",
    "        theta = Reshape((2, 3))(self.localization(inputs))\n",
    "        \n",
    "        # Correct affine transformation (21,2) → (21,3) → keep (x,y)\n",
    "        transformed = tf.einsum('bij,bjk->bik', x, theta)\n",
    "        return Reshape(self.output_dim)(transformed[:, :, :2])  # Maintain 42 features\n"
   ]
  },
  {
   "cell_type": "code",
   "execution_count": 7,
   "id": "06896a0c",
   "metadata": {},
   "outputs": [],
   "source": [
    "def build_self_aware_rotational_model(input_shape=(42,), num_classes=8):\n",
    "    inputs = Input(shape=input_shape)\n",
    "    \n",
    "    # Initialize with output_dim=42\n",
    "    stn_features = SpatialTransformer(output_dim=(42,))(inputs)  # Fixed dimension\n",
    "    \n",
    "    # Rest remains unchanged\n",
    "    rotation_features = Dense(32, activation=\"relu\")(inputs)\n",
    "    combined = Concatenate()([stn_features, rotation_features])\n",
    "    x = Dense(128, activation='tanh', kernel_regularizer=l1_l2())(combined)\n",
    "    x = Dropout(0.4)(x)\n",
    "    x = Dense(32, activation='tanh', kernel_regularizer=l1_l2())(x)\n",
    "    x = Dropout(0.1)(x)\n",
    "    outputs = Dense(num_classes, activation='softmax')(x)\n",
    "    \n",
    "    return Model(inputs=inputs, outputs=outputs)\n"
   ]
  },
  {
   "cell_type": "code",
   "execution_count": 8,
   "id": "0c87fd75",
   "metadata": {},
   "outputs": [
    {
     "name": "stdout",
     "output_type": "stream",
     "text": [
      "WARNING:tensorflow:From c:\\Users\\vansh\\miniconda3\\envs\\tf-cpu\\Lib\\site-packages\\keras\\src\\backend\\tensorflow\\core.py:222: The name tf.placeholder is deprecated. Please use tf.compat.v1.placeholder instead.\n",
      "\n"
     ]
    }
   ],
   "source": [
    "model = build_self_aware_rotational_model()"
   ]
  },
  {
   "cell_type": "code",
   "execution_count": 9,
   "id": "49c7a912",
   "metadata": {},
   "outputs": [],
   "source": [
    "model.compile(optimizer='adam',loss='sparse_categorical_crossentropy',metrics=['accuracy'])"
   ]
  },
  {
   "cell_type": "code",
   "execution_count": 10,
   "id": "15b83d6b",
   "metadata": {},
   "outputs": [],
   "source": [
    "train_X,test_X,train_y,test_y = train_test_split(X,y,test_size=0.1,random_state=0)"
   ]
  },
  {
   "cell_type": "code",
   "execution_count": 11,
   "id": "a3e8841f",
   "metadata": {},
   "outputs": [
    {
     "data": {
      "text/plain": [
       "r1         float64\n",
       "theta1     float64\n",
       "r2         float64\n",
       "theta2     float64\n",
       "r3         float64\n",
       "theta3     float64\n",
       "r4         float64\n",
       "theta4     float64\n",
       "r5         float64\n",
       "theta5     float64\n",
       "r6         float64\n",
       "theta6     float64\n",
       "r7         float64\n",
       "theta7     float64\n",
       "r8         float64\n",
       "theta8     float64\n",
       "r9         float64\n",
       "theta9     float64\n",
       "r10        float64\n",
       "theta10    float64\n",
       "r11        float64\n",
       "theta11    float64\n",
       "r12        float64\n",
       "theta12    float64\n",
       "r13        float64\n",
       "theta13    float64\n",
       "r14        float64\n",
       "theta14    float64\n",
       "r15        float64\n",
       "theta15    float64\n",
       "r16        float64\n",
       "theta16    float64\n",
       "r17        float64\n",
       "theta17    float64\n",
       "r18        float64\n",
       "theta18    float64\n",
       "r19        float64\n",
       "theta19    float64\n",
       "r20        float64\n",
       "theta20    float64\n",
       "r21        float64\n",
       "theta21    float64\n",
       "dtype: object"
      ]
     },
     "execution_count": 11,
     "metadata": {},
     "output_type": "execute_result"
    }
   ],
   "source": [
    "train_X.dtypes"
   ]
  },
  {
   "cell_type": "code",
   "execution_count": 12,
   "id": "d4c75d88",
   "metadata": {},
   "outputs": [
    {
     "name": "stdout",
     "output_type": "stream",
     "text": [
      "Epoch 1/30\n",
      "\u001b[1m150/150\u001b[0m \u001b[32m━━━━━━━━━━━━━━━━━━━━\u001b[0m\u001b[37m\u001b[0m \u001b[1m3s\u001b[0m 7ms/step - accuracy: 0.5227 - loss: 1.2999 - val_accuracy: 0.8440 - val_loss: 0.2909\n",
      "Epoch 2/30\n",
      "\u001b[1m150/150\u001b[0m \u001b[32m━━━━━━━━━━━━━━━━━━━━\u001b[0m\u001b[37m\u001b[0m \u001b[1m1s\u001b[0m 4ms/step - accuracy: 0.9410 - loss: 0.2768 - val_accuracy: 0.9929 - val_loss: 0.0685\n",
      "Epoch 3/30\n",
      "\u001b[1m150/150\u001b[0m \u001b[32m━━━━━━━━━━━━━━━━━━━━\u001b[0m\u001b[37m\u001b[0m \u001b[1m1s\u001b[0m 4ms/step - accuracy: 0.9895 - loss: 0.0886 - val_accuracy: 0.9953 - val_loss: 0.0375\n",
      "Epoch 4/30\n",
      "\u001b[1m150/150\u001b[0m \u001b[32m━━━━━━━━━━━━━━━━━━━━\u001b[0m\u001b[37m\u001b[0m \u001b[1m1s\u001b[0m 4ms/step - accuracy: 0.9950 - loss: 0.0523 - val_accuracy: 0.9976 - val_loss: 0.0237\n",
      "Epoch 5/30\n",
      "\u001b[1m150/150\u001b[0m \u001b[32m━━━━━━━━━━━━━━━━━━━━\u001b[0m\u001b[37m\u001b[0m \u001b[1m1s\u001b[0m 4ms/step - accuracy: 0.9979 - loss: 0.0289 - val_accuracy: 0.9953 - val_loss: 0.0157\n",
      "Epoch 6/30\n",
      "\u001b[1m150/150\u001b[0m \u001b[32m━━━━━━━━━━━━━━━━━━━━\u001b[0m\u001b[37m\u001b[0m \u001b[1m1s\u001b[0m 4ms/step - accuracy: 0.9967 - loss: 0.0221 - val_accuracy: 0.9953 - val_loss: 0.0213\n",
      "Epoch 7/30\n",
      "\u001b[1m150/150\u001b[0m \u001b[32m━━━━━━━━━━━━━━━━━━━━\u001b[0m\u001b[37m\u001b[0m \u001b[1m1s\u001b[0m 4ms/step - accuracy: 0.9965 - loss: 0.0241 - val_accuracy: 0.9976 - val_loss: 0.0124\n",
      "Epoch 8/30\n",
      "\u001b[1m150/150\u001b[0m \u001b[32m━━━━━━━━━━━━━━━━━━━━\u001b[0m\u001b[37m\u001b[0m \u001b[1m1s\u001b[0m 4ms/step - accuracy: 0.9987 - loss: 0.0161 - val_accuracy: 0.9976 - val_loss: 0.0106\n",
      "Epoch 9/30\n",
      "\u001b[1m150/150\u001b[0m \u001b[32m━━━━━━━━━━━━━━━━━━━━\u001b[0m\u001b[37m\u001b[0m \u001b[1m1s\u001b[0m 4ms/step - accuracy: 0.9987 - loss: 0.0123 - val_accuracy: 0.9976 - val_loss: 0.0062\n",
      "Epoch 10/30\n",
      "\u001b[1m150/150\u001b[0m \u001b[32m━━━━━━━━━━━━━━━━━━━━\u001b[0m\u001b[37m\u001b[0m \u001b[1m1s\u001b[0m 4ms/step - accuracy: 0.9994 - loss: 0.0088 - val_accuracy: 0.9953 - val_loss: 0.0108\n",
      "Epoch 11/30\n",
      "\u001b[1m150/150\u001b[0m \u001b[32m━━━━━━━━━━━━━━━━━━━━\u001b[0m\u001b[37m\u001b[0m \u001b[1m1s\u001b[0m 4ms/step - accuracy: 0.9993 - loss: 0.0081 - val_accuracy: 0.9953 - val_loss: 0.0105\n",
      "Epoch 12/30\n",
      "\u001b[1m150/150\u001b[0m \u001b[32m━━━━━━━━━━━━━━━━━━━━\u001b[0m\u001b[37m\u001b[0m \u001b[1m1s\u001b[0m 4ms/step - accuracy: 0.9996 - loss: 0.0058 - val_accuracy: 0.9929 - val_loss: 0.0211\n",
      "Epoch 13/30\n",
      "\u001b[1m150/150\u001b[0m \u001b[32m━━━━━━━━━━━━━━━━━━━━\u001b[0m\u001b[37m\u001b[0m \u001b[1m1s\u001b[0m 4ms/step - accuracy: 0.9920 - loss: 0.0230 - val_accuracy: 0.9953 - val_loss: 0.0051\n",
      "Epoch 14/30\n",
      "\u001b[1m150/150\u001b[0m \u001b[32m━━━━━━━━━━━━━━━━━━━━\u001b[0m\u001b[37m\u001b[0m \u001b[1m1s\u001b[0m 4ms/step - accuracy: 0.9990 - loss: 0.0076 - val_accuracy: 0.9976 - val_loss: 0.0046\n",
      "Epoch 15/30\n",
      "\u001b[1m150/150\u001b[0m \u001b[32m━━━━━━━━━━━━━━━━━━━━\u001b[0m\u001b[37m\u001b[0m \u001b[1m1s\u001b[0m 4ms/step - accuracy: 0.9993 - loss: 0.0045 - val_accuracy: 0.9976 - val_loss: 0.0056\n",
      "Epoch 16/30\n",
      "\u001b[1m150/150\u001b[0m \u001b[32m━━━━━━━━━━━━━━━━━━━━\u001b[0m\u001b[37m\u001b[0m \u001b[1m1s\u001b[0m 4ms/step - accuracy: 0.9976 - loss: 0.0088 - val_accuracy: 0.9976 - val_loss: 0.0062\n",
      "Epoch 17/30\n",
      "\u001b[1m150/150\u001b[0m \u001b[32m━━━━━━━━━━━━━━━━━━━━\u001b[0m\u001b[37m\u001b[0m \u001b[1m1s\u001b[0m 4ms/step - accuracy: 0.9985 - loss: 0.0094 - val_accuracy: 0.9953 - val_loss: 0.0073\n",
      "Epoch 18/30\n",
      "\u001b[1m150/150\u001b[0m \u001b[32m━━━━━━━━━━━━━━━━━━━━\u001b[0m\u001b[37m\u001b[0m \u001b[1m1s\u001b[0m 4ms/step - accuracy: 0.9986 - loss: 0.0058 - val_accuracy: 0.9976 - val_loss: 0.0043\n",
      "Epoch 19/30\n",
      "\u001b[1m150/150\u001b[0m \u001b[32m━━━━━━━━━━━━━━━━━━━━\u001b[0m\u001b[37m\u001b[0m \u001b[1m1s\u001b[0m 4ms/step - accuracy: 1.0000 - loss: 0.0019 - val_accuracy: 1.0000 - val_loss: 0.0017\n",
      "Epoch 20/30\n",
      "\u001b[1m150/150\u001b[0m \u001b[32m━━━━━━━━━━━━━━━━━━━━\u001b[0m\u001b[37m\u001b[0m \u001b[1m1s\u001b[0m 4ms/step - accuracy: 0.9997 - loss: 0.0021 - val_accuracy: 0.9953 - val_loss: 0.0220\n",
      "Epoch 21/30\n",
      "\u001b[1m150/150\u001b[0m \u001b[32m━━━━━━━━━━━━━━━━━━━━\u001b[0m\u001b[37m\u001b[0m \u001b[1m1s\u001b[0m 4ms/step - accuracy: 0.9985 - loss: 0.0118 - val_accuracy: 0.9976 - val_loss: 0.0125\n",
      "Epoch 22/30\n",
      "\u001b[1m150/150\u001b[0m \u001b[32m━━━━━━━━━━━━━━━━━━━━\u001b[0m\u001b[37m\u001b[0m \u001b[1m1s\u001b[0m 3ms/step - accuracy: 0.9999 - loss: 0.0018 - val_accuracy: 0.9976 - val_loss: 0.0071\n",
      "Epoch 23/30\n",
      "\u001b[1m150/150\u001b[0m \u001b[32m━━━━━━━━━━━━━━━━━━━━\u001b[0m\u001b[37m\u001b[0m \u001b[1m1s\u001b[0m 4ms/step - accuracy: 0.9993 - loss: 0.0062 - val_accuracy: 1.0000 - val_loss: 0.0012\n",
      "Epoch 24/30\n",
      "\u001b[1m150/150\u001b[0m \u001b[32m━━━━━━━━━━━━━━━━━━━━\u001b[0m\u001b[37m\u001b[0m \u001b[1m1s\u001b[0m 4ms/step - accuracy: 0.9992 - loss: 0.0050 - val_accuracy: 0.9953 - val_loss: 0.0217\n",
      "Epoch 25/30\n",
      "\u001b[1m150/150\u001b[0m \u001b[32m━━━━━━━━━━━━━━━━━━━━\u001b[0m\u001b[37m\u001b[0m \u001b[1m1s\u001b[0m 4ms/step - accuracy: 0.9986 - loss: 0.0061 - val_accuracy: 0.9953 - val_loss: 0.0204\n",
      "Epoch 26/30\n",
      "\u001b[1m150/150\u001b[0m \u001b[32m━━━━━━━━━━━━━━━━━━━━\u001b[0m\u001b[37m\u001b[0m \u001b[1m1s\u001b[0m 4ms/step - accuracy: 0.9994 - loss: 0.0034 - val_accuracy: 0.9976 - val_loss: 0.0093\n",
      "Epoch 27/30\n",
      "\u001b[1m150/150\u001b[0m \u001b[32m━━━━━━━━━━━━━━━━━━━━\u001b[0m\u001b[37m\u001b[0m \u001b[1m1s\u001b[0m 4ms/step - accuracy: 0.9988 - loss: 0.0048 - val_accuracy: 0.9953 - val_loss: 0.0188\n",
      "Epoch 28/30\n",
      "\u001b[1m150/150\u001b[0m \u001b[32m━━━━━━━━━━━━━━━━━━━━\u001b[0m\u001b[37m\u001b[0m \u001b[1m1s\u001b[0m 4ms/step - accuracy: 0.9993 - loss: 0.0072 - val_accuracy: 0.9976 - val_loss: 0.0057\n",
      "Epoch 29/30\n",
      "\u001b[1m150/150\u001b[0m \u001b[32m━━━━━━━━━━━━━━━━━━━━\u001b[0m\u001b[37m\u001b[0m \u001b[1m1s\u001b[0m 4ms/step - accuracy: 1.0000 - loss: 0.0012 - val_accuracy: 1.0000 - val_loss: 5.3501e-04\n",
      "Epoch 30/30\n",
      "\u001b[1m150/150\u001b[0m \u001b[32m━━━━━━━━━━━━━━━━━━━━\u001b[0m\u001b[37m\u001b[0m \u001b[1m1s\u001b[0m 4ms/step - accuracy: 0.9998 - loss: 0.0012 - val_accuracy: 0.9953 - val_loss: 0.0116\n"
     ]
    }
   ],
   "source": [
    "history = model.fit(train_X,train_y,epochs=30,batch_size=16,validation_split=0.15)"
   ]
  },
  {
   "cell_type": "code",
   "execution_count": 14,
   "id": "c6d25b67",
   "metadata": {},
   "outputs": [
    {
     "name": "stdout",
     "output_type": "stream",
     "text": [
      "\u001b[1m10/10\u001b[0m \u001b[32m━━━━━━━━━━━━━━━━━━━━\u001b[0m\u001b[37m\u001b[0m \u001b[1m0s\u001b[0m 5ms/step - accuracy: 0.9991 - loss: 0.0060     \n",
      "Test Accuracy: 1.00\n",
      "Test Loss: 0.02\n"
     ]
    }
   ],
   "source": [
    "loss,accuracy = model.evaluate(test_X,test_y)\n",
    "print(f'Test Accuracy: {accuracy:.2f}')\n",
    "print(f'Test Loss: {loss:.2f}')"
   ]
  },
  {
   "cell_type": "code",
   "execution_count": null,
   "id": "baef2ff0",
   "metadata": {},
   "outputs": [],
   "source": [
    "model.save(r\"my_model.keras\")"
   ]
  },
  {
   "cell_type": "code",
   "execution_count": null,
   "id": "6d5eea40",
   "metadata": {},
   "outputs": [],
   "source": []
  }
 ],
 "metadata": {
  "kernelspec": {
   "display_name": "tf-cpu",
   "language": "python",
   "name": "python3"
  },
  "language_info": {
   "codemirror_mode": {
    "name": "ipython",
    "version": 3
   },
   "file_extension": ".py",
   "mimetype": "text/x-python",
   "name": "python",
   "nbconvert_exporter": "python",
   "pygments_lexer": "ipython3",
   "version": "3.11.11"
  }
 },
 "nbformat": 4,
 "nbformat_minor": 5
}
